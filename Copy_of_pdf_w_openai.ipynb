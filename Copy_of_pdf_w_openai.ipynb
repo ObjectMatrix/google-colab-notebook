{
  "nbformat": 4,
  "nbformat_minor": 0,
  "metadata": {
    "colab": {
      "provenance": [],
      "toc_visible": true,
      "mount_file_id": "https://github.com/ObjectMatrix/google-colab-notebook/blob/main/pdf_w_openai.ipynb",
      "authorship_tag": "ABX9TyMCqRNfYCXkl5LkKjC5mjdc",
      "include_colab_link": true
    },
    "kernelspec": {
      "name": "python3",
      "display_name": "Python 3"
    },
    "language_info": {
      "name": "python"
    }
  },
  "cells": [
    {
      "cell_type": "markdown",
      "metadata": {
        "id": "view-in-github",
        "colab_type": "text"
      },
      "source": [
        "<a href=\"https://colab.research.google.com/github/ObjectMatrix/google-colab-notebook/blob/main/Copy_of_pdf_w_openai.ipynb\" target=\"_parent\"><img src=\"https://colab.research.google.com/assets/colab-badge.svg\" alt=\"Open In Colab\"/></a>"
      ]
    },
    {
      "cell_type": "code",
      "source": [
        "#@title Unstructured documents\n",
        "import os\n",
        "import json\n",
        "\n",
        "drive_mount_path = '/content/drive'\n",
        "\n",
        "# Check if the drive is already mounted\n",
        "if not os.path.ismount(drive_mount_path):\n",
        "    from google.colab import drive\n",
        "    drive.mount(drive_mount_path)\n",
        "else:\n",
        "    print(\"Drive is already mounted.\")\n",
        "with open('/content/drive/MyDrive/secrets.json', 'r') as f:\n",
        "  secrets = json.load(f)\n",
        "KEY=secrets['SECRET_KEY']\n",
        "os.environ[\"OPENAI_API_KEY\"] = KEY"
      ],
      "metadata": {
        "id": "gWLd4BopZkbE",
        "cellView": "form"
      },
      "execution_count": null,
      "outputs": []
    },
    {
      "cell_type": "code",
      "source": [
        "!pip install langchain\n",
        "!pip install openai\n",
        "!pip install chroma\n",
        "!pip install nltk\n",
        "!pip install unstructured\n",
        "!pip install chromadb\n",
        "!pip install matplotlib-venn\n",
        "!pip install cartopy\n",
        "!pip install tiktoken\n",
        "!pip install Cython pypdf"
      ],
      "metadata": {
        "id": "OUFZI_Q6Xh0c"
      },
      "execution_count": null,
      "outputs": []
    },
    {
      "cell_type": "code",
      "execution_count": null,
      "metadata": {
        "id": "JbmQfkVWW9Ui"
      },
      "outputs": [],
      "source": [
        "import langchain\n",
        "import os\n",
        "import openai\n",
        "from langchain.chains import RetrievalQA\n",
        "from langchain.embeddings import OpenAIEmbeddings\n",
        "from langchain.vectorstores import Chroma\n",
        "from langchain import OpenAI, VectorDBQA\n",
        "from langchain.document_loaders import UnstructuredFileLoader\n",
        "from langchain.document_loaders import PyPDFDirectoryLoader\n",
        "from langchain.text_splitter import CharacterTextSplitter\n",
        "import nltk\n",
        "nltk.download(\"punkt\")"
      ]
    },
    {
      "cell_type": "code",
      "source": [
        "pdf_folder_path = '/content/drive/MyDrive/pdfs/'\n",
        "loader = PyPDFDirectoryLoader(pdf_folder_path)\n",
        "documents = loader.load()"
      ],
      "metadata": {
        "id": "wWHoAJdpjwMP"
      },
      "execution_count": null,
      "outputs": []
    },
    {
      "cell_type": "code",
      "source": [
        "text_splitter = CharacterTextSplitter(chunk_size=800, chunk_overlap=0)\n",
        "texts = text_splitter.split_documents(documents)"
      ],
      "metadata": {
        "id": "5x6yXpY8Ypr9"
      },
      "execution_count": null,
      "outputs": []
    },
    {
      "cell_type": "code",
      "source": [
        "embeddings = OpenAIEmbeddings(openai_api_key = os.environ['OPENAI_API_KEY'])\n",
        "doc_search = Chroma.from_documents(texts,embeddings)\n",
        "indexed_chroma_data = Chroma(collection_name=\"pdfdata\", persist_directory=\"/content/drive/MyDrive/.chromadb/\", embedding_function=embeddings)\n",
        "\n",
        "retriever = doc_search.as_retriever()\n",
        "qa = RetrievalQA.from_llm(llm=OpenAI(), retriever=retriever)\n",
        "\n"
      ],
      "metadata": {
        "id": "c6wErpjAZIPp"
      },
      "execution_count": null,
      "outputs": []
    },
    {
      "cell_type": "code",
      "source": [
        "query = \"list onboarding links\"\n",
        "qa.run(query)"
      ],
      "metadata": {
        "id": "oVSUG882ZbG7"
      },
      "execution_count": null,
      "outputs": []
    }
  ]
}