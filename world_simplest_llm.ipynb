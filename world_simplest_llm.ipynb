{
  "nbformat": 4,
  "nbformat_minor": 0,
  "metadata": {
    "colab": {
      "provenance": [],
      "authorship_tag": "ABX9TyMhVti4BlINYW96n2AfolAd",
      "include_colab_link": true
    },
    "kernelspec": {
      "name": "python3",
      "display_name": "Python 3"
    },
    "language_info": {
      "name": "python"
    }
  },
  "cells": [
    {
      "cell_type": "markdown",
      "metadata": {
        "id": "view-in-github",
        "colab_type": "text"
      },
      "source": [
        "<a href=\"https://colab.research.google.com/github/ObjectMatrix/google-colab-notebook/blob/main/world_simplest_llm.ipynb\" target=\"_parent\"><img src=\"https://colab.research.google.com/assets/colab-badge.svg\" alt=\"Open In Colab\"/></a>"
      ]
    },
    {
      "cell_type": "markdown",
      "source": [
        "[Open in Colab](https://colab.research.google.com/world-simplest-llm.ipynb.ipynb)\n"
      ],
      "metadata": {
        "id": "Si_ui3Lx8DTg"
      }
    },
    {
      "cell_type": "code",
      "execution_count": null,
      "metadata": {
        "id": "ZjyjGJsJChGK"
      },
      "outputs": [],
      "source": [
        "!pip install -U tensorflow\n",
        "!pip install numpy"
      ]
    },
    {
      "cell_type": "markdown",
      "source": [
        "Data Preparation:\n",
        "\n",
        "The data variable contains the input text that will be used to train the Language Model.\n",
        "The unique characters in the text are extracted and stored in the chars list.\n",
        "num_chars represents the total number of unique characters in the text.\n",
        "char_to_index is a dictionary that maps each character to a unique index.\n",
        "index_to_char is a dictionary that maps each index back to its corresponding character.\n",
        "sequence_length determines the number of characters in each input sequence.\n",
        "Model Creation:\n",
        "\n",
        "A sequential model is created using Keras.\n",
        "An LSTM (Long Short-Term Memory) layer is a type of recurrent neural network (RNN) layer that is commonly used for sequence modeling tasks. It is designed to address the vanishing gradient problem that can occur when training deep neural networks on long sequences.) layer is added to the model with 32 units. It takes input of shape (sequence_length, 1) representing the sequence of characters.\n",
        "A dense layer with num_chars units and a softmax activation function is added to output the probabilities of the next character.\n",
        "Model Training:\n",
        "\n",
        "The model is trained using the prepared data (X and y).\n",
        "X represents the input sequences, reshaped to (num_sequences, sequence_length, 1) to match the model's input shape.\n",
        "y represents the target values, one-hot encoded to match the model's output shape.\n",
        "The model is trained using the categorical_crossentropy loss function and the Adam optimizer.\n",
        "Text Generation:\n",
        "\n",
        "A random start_index is selected within the range of the original data.\n",
        "generated_text is initialized with a substring of the original data based on the start_index.\n",
        "The loop iterates 50 times (you can modify this number as per your requirement).\n",
        "For each iteration, the current generated_text is reshaped and normalized.\n",
        "The model predicts the probabilities of the next character.\n",
        "The character with the highest probability (result) is added to generated_text.\n",
        "The first character of generated_text is removed to maintain the desired sequence length.\n",
        "The generated characters are appended to generated_text_result to accumulate the generated text.\n",
        "Print Generated Text:\n",
        "\n",
        "After the loop completes, generated_text_result is printed, which represents the generated text.\n",
        "Please note that this is a basic character-level Language Model, and the generated text may not always be meaningful or coherent. Building more advanced and sophisticated Language Models often involves using larger datasets, more complex architectures, and additional techniques like word-level modeling or fine-tuning on specific tasks."
      ],
      "metadata": {
        "id": "ifSHjmdqISbA"
      }
    },
    {
      "cell_type": "code",
      "source": [
        "import numpy as np\n",
        "from keras.models import Sequential\n",
        "from keras.layers import LSTM, Dense\n",
        "\n",
        "# Step 1: Data Preparation\n",
        "data = \"Hello, how are you? I am doing great.\"\n",
        "chars = list(set(data))\n",
        "num_chars = len(chars)\n",
        "char_to_index = {char: i for i, char in enumerate(chars)}\n",
        "index_to_char = {i: char for i, char in enumerate(chars)}\n",
        "sequence_length = 20\n",
        "\n",
        "X = []\n",
        "y = []\n",
        "for i in range(len(data) - sequence_length):\n",
        "    sequence_in = data[i : i + sequence_length]\n",
        "    sequence_out = data[i + sequence_length]\n",
        "    X.append([char_to_index[char] for char in sequence_in])\n",
        "    y.append(char_to_index[sequence_out])\n",
        "\n",
        "X = np.reshape(X, (len(X), sequence_length, 1))\n",
        "X = X / float(num_chars)\n",
        "y = np.eye(num_chars)[y]\n",
        "\n",
        "# Step 2: Model Creation\n",
        "model = Sequential()\n",
        "model.add(LSTM(32, input_shape=(X.shape[1], X.shape[2])))\n",
        "model.add(Dense(num_chars, activation=\"softmax\"))\n",
        "model.compile(loss=\"categorical_crossentropy\", optimizer=\"adam\")\n",
        "\n",
        "# Step 3: Model Training\n",
        "model.fit(X, y, epochs=100, batch_size=16)\n",
        "\n",
        "# Step 4: Text Generation\n",
        "start_index = np.random.randint(0, len(data) - sequence_length)\n",
        "generated_text = data[start_index : start_index + sequence_length]\n",
        "generated_text_result = generated_text\n",
        "\n",
        "for _ in range(50):\n",
        "    x = np.reshape([char_to_index[char] for char in generated_text], (1, sequence_length, 1))\n",
        "    x = x / float(num_chars)\n",
        "    prediction = model.predict(x, verbose=0)\n",
        "    index = np.argmax(prediction)\n",
        "    result = index_to_char[index]\n",
        "    generated_text += result\n",
        "    generated_text = generated_text[1:]\n",
        "\n",
        "    generated_text_result += result\n",
        "\n",
        "print(\"Generated Text:\", generated_text_result)\n"
      ],
      "metadata": {
        "id": "CStz7AUsCybW"
      },
      "execution_count": null,
      "outputs": []
    },
    {
      "cell_type": "code",
      "source": [
        "import numpy as np\n",
        "from keras.models import Sequential\n",
        "from keras.layers import LSTM, Dense\n",
        "\n",
        "# Step 1: Data Preparation\n",
        "data = \"Hello, how are you? I am doing great.\"\n",
        "chars = list(set(data))\n",
        "num_chars = len(chars)\n",
        "char_to_index = {char: i for i, char in enumerate(chars)}\n",
        "index_to_char = {i: char for i, char in enumerate(chars)}\n",
        "sequence_length = 10\n",
        "\n",
        "X = []\n",
        "y = []\n",
        "for i in range(len(data) - sequence_length):\n",
        "    sequence_in = data[i : i + sequence_length]\n",
        "    sequence_out = data[i + sequence_length]\n",
        "    X.append([char_to_index[char] for char in sequence_in])\n",
        "    y.append(char_to_index[sequence_out])\n",
        "\n",
        "X = np.reshape(X, (len(X), sequence_length, 1))\n",
        "X = X / float(num_chars)\n",
        "y = np.eye(num_chars)[y]\n",
        "\n",
        "# Step 2: Model Creation\n",
        "model = Sequential()\n",
        "model.add(LSTM(32, input_shape=(X.shape[1], X.shape[2])))\n",
        "model.add(Dense(num_chars, activation=\"softmax\"))\n",
        "model.compile(loss=\"categorical_crossentropy\", optimizer=\"adam\")\n",
        "\n",
        "# Print the model summary\n",
        "model.summary()\n"
      ],
      "metadata": {
        "id": "QZM8B9p5JEkQ"
      },
      "execution_count": null,
      "outputs": []
    },
    {
      "cell_type": "code",
      "source": [
        "import numpy as np\n",
        "from keras.models import Sequential\n",
        "from keras.layers import LSTM, Dense\n",
        "from keras.utils.vis_utils import plot_model\n",
        "\n",
        "# Step 1: Data Preparation\n",
        "data = \"Hello, how are you? I am doing great.\"\n",
        "chars = list(set(data))\n",
        "num_chars = len(chars)\n",
        "char_to_index = {char: i for i, char in enumerate(chars)}\n",
        "index_to_char = {i: char for i, char in enumerate(chars)}\n",
        "sequence_length = 10\n",
        "\n",
        "X = []\n",
        "y = []\n",
        "for i in range(len(data) - sequence_length):\n",
        "    sequence_in = data[i : i + sequence_length]\n",
        "    sequence_out = data[i + sequence_length]\n",
        "    X.append([char_to_index[char] for char in sequence_in])\n",
        "    y.append(char_to_index[sequence_out])\n",
        "\n",
        "X = np.reshape(X, (len(X), sequence_length, 1))\n",
        "X = X / float(num_chars)\n",
        "y = np.eye(num_chars)[y]\n",
        "\n",
        "# Step 2: Model Creation\n",
        "model = Sequential()\n",
        "model.add(LSTM(32, input_shape=(X.shape[1], X.shape[2])))\n",
        "model.add(Dense(num_chars, activation=\"softmax\"))\n",
        "model.compile(loss=\"categorical_crossentropy\", optimizer=\"adam\")\n",
        "\n",
        "# Save the model visualization as a PNG file\n",
        "plot_model(model, to_file='model_architecture.png', show_shapes=True, show_layer_names=True)\n"
      ],
      "metadata": {
        "colab": {
          "base_uri": "https://localhost:8080/",
          "height": 312
        },
        "id": "kHUZ03VMJYhH",
        "outputId": "8fddad50-bbfd-466d-c161-aeb7e3f0188c"
      },
      "execution_count": null,
      "outputs": [
        {
          "output_type": "execute_result",
          "data": {
            "image/png": "[encoded data removed]",
            "text/plain": [
              "<IPython.core.display.Image object>"
            ]
          },
          "metadata": {},
          "execution_count": 18
        }
      ]
    }
  ]
}