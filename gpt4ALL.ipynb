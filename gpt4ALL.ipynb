{
  "cells": [
    {
      "cell_type": "markdown",
      "metadata": {
        "id": "view-in-github",
        "colab_type": "text"
      },
      "source": [
        "<a href=\"https://colab.research.google.com/github/ObjectMatrix/google-colab-notebook/blob/main/gpt4ALL.ipynb\" target=\"_parent\"><img src=\"https://colab.research.google.com/assets/colab-badge.svg\" alt=\"Open In Colab\"/></a>"
      ]
    },
    {
      "cell_type": "code",
      "execution_count": null,
      "metadata": {
        "id": "7gl4xVYfVoxB"
      },
      "outputs": [],
      "source": [
        "!pip install -r /content/drive/MyDrive/models/requirements.txt"
      ]
    },
    {
      "cell_type": "code",
      "execution_count": null,
      "metadata": {
        "id": "GhvAIWlXiLBE"
      },
      "outputs": [],
      "source": [
        "from pygpt4all.models.gpt4all import GPT4All"
      ]
    },
    {
      "cell_type": "code",
      "execution_count": null,
      "metadata": {
        "id": "0f-5t0KxW2Md"
      },
      "outputs": [],
      "source": [
        "def new_text_callback(text):\n",
        "    print(text, end=\"\")\n",
        "\n",
        "model = GPT4All('/content/drive/MyDrive/models/gpt4all-converted.bin')\n",
        "model.generate(\"John Hancock legacy, \", n_predict=55, new_text_callback=new_text_callback)"
      ]
    }
  ],
  "metadata": {
    "colab": {
      "provenance": [],
      "private_outputs": true,
      "mount_file_id": "1cs0u7XQMrvWVrPK2wOa4A6lhgiFaBFWy",
      "authorship_tag": "ABX9TyPRDph1Z5AbGino8kzppnza",
      "include_colab_link": true
    },
    "kernelspec": {
      "display_name": "Python 3",
      "name": "python3"
    },
    "language_info": {
      "name": "python"
    }
  },
  "nbformat": 4,
  "nbformat_minor": 0
}