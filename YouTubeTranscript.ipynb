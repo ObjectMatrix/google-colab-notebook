{
  "nbformat": 4,
  "nbformat_minor": 0,
  "metadata": {
    "colab": {
      "provenance": [],
      "mount_file_id": "1V6v-enm0ofpmN1OdAeb5TS7B40VH2Lt8",
      "authorship_tag": "ABX9TyPF42G9omacwKyx8WKYCtUw",
      "include_colab_link": true
    },
    "kernelspec": {
      "name": "python3",
      "display_name": "Python 3"
    },
    "language_info": {
      "name": "python"
    }
  },
  "cells": [
    {
      "cell_type": "markdown",
      "metadata": {
        "id": "view-in-github",
        "colab_type": "text"
      },
      "source": [
        "<a href=\"https://colab.research.google.com/github/ObjectMatrix/google-colab-notebook/blob/main/YouTubeTranscript.ipynb\" target=\"_parent\"><img src=\"https://colab.research.google.com/assets/colab-badge.svg\" alt=\"Open In Colab\"/></a>"
      ]
    },
    {
      "cell_type": "code",
      "source": [
        "!pip install tiktoken"
      ],
      "metadata": {
        "id": "EZSOnAKhN0Os"
      },
      "execution_count": null,
      "outputs": []
    },
    {
      "cell_type": "code",
      "source": [
        "!pip install openai langchain youtube_transcript_api pytube"
      ],
      "metadata": {
        "id": "jR5h1c2wKIpI"
      },
      "execution_count": null,
      "outputs": []
    },
    {
      "cell_type": "markdown",
      "source": [],
      "metadata": {
        "id": "n2D-xK6ePZL6"
      }
    },
    {
      "cell_type": "code",
      "source": [
        "import os\n",
        "os[\"OPENAI_API_KEY\"]=\"\""
      ],
      "metadata": {
        "id": "2_7JDIG9Keur"
      },
      "execution_count": null,
      "outputs": []
    },
    {
      "cell_type": "code",
      "execution_count": null,
      "metadata": {
        "id": "IWAkW7jUJyIt"
      },
      "outputs": [],
      "source": [
        "from langchain.document_loaders import YoutubeLoader\n",
        "from langchain.llms import OpenAI\n",
        "from langchain.chains.summarize import load_summarize_chain\n",
        "from langchain.text_splitter import RecursiveCharacterTextSplitter"
      ]
    },
    {
      "cell_type": "code",
      "source": [
        "loader = YoutubeLoader.from_youtube_url(\"https://youtu.be/qu-vXAFUpLE\", add_video_info=True)"
      ],
      "metadata": {
        "id": "PWzmvrU4KsNd"
      },
      "execution_count": null,
      "outputs": []
    },
    {
      "cell_type": "code",
      "source": [
        "result = loader.load()"
      ],
      "metadata": {
        "id": "M8VogLzKMZ51"
      },
      "execution_count": null,
      "outputs": []
    },
    {
      "cell_type": "code",
      "source": [
        "# print (type(result))\n",
        "# print (f\"Found video from {result[0].metadata['author']} that is {result[0].metadata['length']} seconds long\")\n",
        "# print (\"\")\n",
        "print (result)\n",
        "llm = OpenAI(temperature=0, openai_api_key=\"\")\n",
        "text_splitter = RecursiveCharacterTextSplitter(chunk_size=2000, chunk_overlap=0)\n",
        "texts = text_splitter.split_documents(result)\n",
        "chain = load_summarize_chain(llm, chain_type=\"map_reduce\", verbose=True)\n",
        "chain.run(texts[:4])"
      ],
      "metadata": {
        "id": "OnoGINMiMTG_"
      },
      "execution_count": null,
      "outputs": []
    }
  ]
}