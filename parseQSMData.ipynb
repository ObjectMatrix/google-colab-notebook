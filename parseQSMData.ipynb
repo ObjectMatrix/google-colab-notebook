{
  "nbformat": 4,
  "nbformat_minor": 0,
  "metadata": {
    "colab": {
      "provenance": [],
      "mount_file_id": "1SLPefx0ugv2QHXiMfD5HDsjcy99yqUiT",
      "authorship_tag": "ABX9TyPwinrWLHAM06qJ7+dVTzRQ",
      "include_colab_link": true
    },
    "kernelspec": {
      "name": "python3",
      "display_name": "Python 3"
    },
    "language_info": {
      "name": "python"
    }
  },
  "cells": [
    {
      "cell_type": "markdown",
      "metadata": {
        "id": "view-in-github",
        "colab_type": "text"
      },
      "source": [
        "<a href=\"https://colab.research.google.com/github/ObjectMatrix/google-colab-notebook/blob/main/parseQSMData.ipynb\" target=\"_parent\"><img src=\"https://colab.research.google.com/assets/colab-badge.svg\" alt=\"Open In Colab\"/></a>"
      ]
    },
    {
      "cell_type": "code",
      "source": [
        "import json\n",
        "\n",
        "file_path = '/content/drive/MyDrive/QSM/TX.json'\n",
        "with open(file_path, 'r') as file:\n",
        "    data = json.load(file)\n",
        " "
      ],
      "metadata": {
        "id": "lXxxzSIG4ECl"
      },
      "execution_count": null,
      "outputs": []
    },
    {
      "cell_type": "code",
      "source": [
        "json_data = data\n",
        "\n",
        "def extract_text_by_asset_ids(data, asset_ids):\n",
        "    vehicle_coverages = data.get('autoRateMeta', {}).get('vehicleCoverages', [])\n",
        "    policy_coverages = data.get('autoRateMeta', {}).get('policyCoverages', [])\n",
        "    for coverage in vehicle_coverages:\n",
        "        name = coverage.get('name')\n",
        "        content_assets = coverage.get('contentAssets', [])\n",
        "        # print(\"Name:\", name)\n",
        "        # print(\"Text Values:\")\n",
        "        for asset in content_assets:\n",
        "            asset_id = asset.get('assetId')\n",
        "            if asset_id in asset_ids:\n",
        "                text = asset.get('text')\n",
        "                print(f\"{asset_id}: {text}\")\n",
        "    print(\"\\n\\n🚌🚌🚌🚌🚌🚌🚌🚌🚌🚌🚌🚌🚌\\n\" )\n",
        "\n",
        "    for coverage in policy_coverages:\n",
        "        name = coverage.get('name')\n",
        "        content_assets = coverage.get('contentAssets', [])\n",
        "        # print(\"Name:\", name)\n",
        "        # print(\"Text Values:\")\n",
        "        for asset in content_assets:\n",
        "            asset_id = asset.get('assetId')\n",
        "            if asset_id in asset_ids:\n",
        "                text = asset.get('text')\n",
        "                print(f\"{asset_id}: {text}\")\n",
        "        print(\"\")  \n",
        "\n",
        "\n",
        "extract_text_by_asset_ids(data, [\"default\", \"definition\", \"FAQ_1\", \"FAQ_2\", \"Label\", \"SecondaryLabel\"] )      "
      ],
      "metadata": {
        "id": "KZGI81W94Z0X"
      },
      "execution_count": null,
      "outputs": []
    }
  ]
}