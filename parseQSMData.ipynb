{
  "nbformat": 4,
  "nbformat_minor": 0,
  "metadata": {
    "colab": {
      "provenance": [],
      "mount_file_id": "1SLPefx0ugv2QHXiMfD5HDsjcy99yqUiT",
      "authorship_tag": "ABX9TyPwinrWLHAM06qJ7+dVTzRQ",
      "include_colab_link": true
    },
    "kernelspec": {
      "name": "python3",
      "display_name": "Python 3"
    },
    "language_info": {
      "name": "python"
    }
  },
  "cells": [
    {
      "cell_type": "markdown",
      "metadata": {
        "id": "view-in-github",
        "colab_type": "text"
      },
      "source": [
        "<a href=\"https://colab.research.google.com/github/ObjectMatrix/google-colab-notebook/blob/main/parseQSMData.ipynb\" target=\"_parent\"><img src=\"https://colab.research.google.com/assets/colab-badge.svg\" alt=\"Open In Colab\"/></a>"
      ]
    },
    {
      "cell_type": "code",
      "source": [
        "import json\n",
        "\n",
        "file_path = '/content/drive/MyDrive/QSM/TX.json'\n",
        "with open(file_path, 'r') as file:\n",
        "    data = json.load(file)\n",
        " "
      ],
      "metadata": {
        "id": "lXxxzSIG4ECl"
      },
      "execution_count": null,
      "outputs": []
    },
    {
      "cell_type": "code",
      "source": [
        "json_data = data\n",
        "\n",
        "def extract_text_by_asset_ids(data, asset_ids):\n",
        "    vehicle_coverages = data.get('autoRateMeta', {}).get('vehicleCoverages', [])\n",
        "    policy_coverages = data.get('autoRateMeta', {}).get('policyCoverages', [])\n",
        "    for coverage in vehicle_coverages:\n",
        "        name = coverage.get('name')\n",
        "        content_assets = coverage.get('contentAssets', [])\n",
        "        # print(\"Name:\", name)\n",
        "        # print(\"Text Values:\")\n",
        "        for asset in content_assets:\n",
        "            asset_id = asset.get('assetId')\n",
        "            if asset_id in asset_ids:\n",
        "                text = asset.get('text')\n",
        "                print(f\"{asset_id}: {text}\")\n",
        "    print(\"\\n\\n🚌🚌🚌🚌🚌🚌🚌🚌🚌🚌🚌🚌🚌\\n\" )\n",
        "\n",
        "    for coverage in policy_coverages:\n",
        "        name = coverage.get('name')\n",
        "        content_assets = coverage.get('contentAssets', [])\n",
        "        # print(\"Name:\", name)\n",
        "        # print(\"Text Values:\")\n",
        "        for asset in content_assets:\n",
        "            asset_id = asset.get('assetId')\n",
        "            if asset_id in asset_ids:\n",
        "                text = asset.get('text')\n",
        "                print(f\"{asset_id}: {text}\")\n",
        "        print(\"\")  \n",
        "\n",
        "\n",
        "extract_text_by_asset_ids(data, [\"default\", \"definition\", \"FAQ_1\", \"FAQ_2\", \"Label\", \"SecondaryLabel\"] )      "
      ],
      "metadata": {
        "id": "KZGI81W94Z0X",
        "colab": {
          "base_uri": "https://localhost:8080/"
        },
        "outputId": "ea4291bd-bfec-48db-f869-5df0d2605b1a"
      },
      "execution_count": 35,
      "outputs": [
        {
          "output_type": "stream",
          "name": "stdout",
          "text": [
            "Label: Comprehensive\n",
            "SecondaryLabel: Comprehensive & Collision\n",
            "default: <p>If your vehicle is stolen or damaged from something other than a collision (like fire, hail, vandalism, or impact with an animal), Comprehensive coverage kicks in. This coverage pays the cost, minus your deductible, of repairing or replacing your vehicle.</p> <p><strong>Is Comprehensive coverage required?</strong><br /> If you lease or finance your vehicle, your lender may require Comprehensive coverage.</p> <p><strong>How does my deductible work?</strong><br /> Your deductible is the amount you're responsible for paying before Comprehensive coverage kicks in. Let's say you had a $500 deductible. If your vehicle was damaged by hail and it cost $1,500 to fix, you would pay $500 and we would pay $1,000.</p>\n",
            "Label: Collision\n",
            "default: <p>If your vehicle is damaged from colliding with another vehicle or object (like a tree or guardrail) Collision coverage kicks in. This coverage pays the cost, minus your deductible, of repairing or replacing your vehicle.</p> <p>Comprehensive coverage is required to purchase Collision coverage.</p> <p><strong>Is Collision coverage required?</strong><br /> If you lease or finance your vehicle, your lender may require Collision coverage.</p> <p><strong>How does my deductible work?</strong><br /> Your deductible is the amount you're responsible for paying before Collision coverage kicks in. Let's say you had a $500 deductible. If you backed your vehicle into a tree and it cost $1,500 to fix, you would pay $500 and we would pay $1,000.</p>\n",
            "Label: Better Car Replacement&trade;\n",
            "default: <p>Having Better Car Replacement on your policy provides peace of mind if you're in an accident. If your vehicle is totaled, we'll pay you more than your vehicle is currently worth, making it easier for you to get back to normal.</p> <p>Specifically, we'll pay for a replacement vehicle that's one model year newer, with 15,000 fewer miles. For example, if your old vehicle was a 2014 model with 35,000 miles, we'll give you the money for a 2015 model with only 20,000 miles.</p> <p>Comprehensive coverage is required and your Comprehensive deductible applies. This coverage isn't available for leased vehicles.</p>\n",
            "Label: Original Parts Replacement\n",
            "default: <p>If you're in an accident and your vehicle is damaged, this coverage pays for you to replace any damaged parts with parts that meet the highest quality standards.</p> <p>For example, if you have a Ford and your bumper is damaged, this coverage will pay for you to get a replacement bumper from Ford instead of a cheaper, 3rd party vendor.</p> <p>If original manufacturer parts aren't available or are no longer in production, we'll provide an estimate with comparable or reconditioned parts.</p>\n",
            "Label: Employee Parking Guard&trade;\n",
            "default: <p>If you park within one mile of work, Employee Parking Guard can help you save on out-of-pocket deductible expenses. This coverage protects you in two ways:</p> <ul> <li>If your vehicle is vandalized while parked at work, we'll pay for the damages and you won't have to pay any deductible.</li> </ul> <ul> <li>If any belongings inside your vehicle are stolen or damaged (whether due to theft, fire, etc.), we'll pay up to $2,500 for the loss or damage, and you'll only have to pay a $50 deductible.</li> </ul> <p>For example, if you work at a shopping mall and your stuff is stolen from your vehicle while it's parked in the garage, Employee Parking Guard kicks in to help cover the cost of your stolen belongings.</p> <p>This coverage applies to any driver on your policy. Comprehensive coverage is required to purchase this coverage.</p>\n",
            "Label: 24-Hour Roadside Assistance\n",
            "default: <p>If the unexpected happens, we won't leave you stranded. If your vehicle breaks down or you’re stuck with a flat tire, we’ll be there to help with Roadside Assistance. Also known as Towing &amp; Labor, this coverage pays for your vehicle to be repaired on site or towed to the nearest shop.</p> <p><strong>How much towing am I covered for?</strong> <br />If you call Liberty Mutual to make towing arrangements, we’ll pay the full cost of towing to the nearest shop.</p> <p>If you make your own arrangements, we’ll pay up to $50 per tow. For example, if the tow costs $75, we’ll pay $50 and you’ll pay the remaining $25.</p> <p>Need more towing coverage? Call us at 1-800-491-3727 to discuss other available options.</p>\n",
            "Label: Rental Car Reimbursement\n",
            "default: <p>If your vehicle needs repairs after an accident, Rental Car Reimbursement pays for a rental car while yours is in the shop.</p> <p>Comprehensive coverage is required to purchase Rental Car Reimbursement.</p> <p><strong>How much am I covered for?</strong><br /> If you get your vehicle repaired at one of our Guaranteed Repair Network facilities, we'll pay up to $30 per day for as long as it takes for your vehicle to be repaired. If you use another shop, we'll pay up to $30 per day and up to $900 per accident.</p> <p>Need more rental car coverage? Call us at 1-800-491-3727 to discuss other available options.\n",
            "Label: New Car Replacement\n",
            "default: With New Car Replacement, you'll get the money for a brand new car if yours gets totaled.<br /><br />Applies to covered total loss. Your car must be less than one year old, have fewer than 15,000 miles and have had no previous owner. Not applicable to leased vehicles.\n",
            "Label: 2 YR New Car Replacement Cost Coverage\n",
            "default: If your Subaru is declared a total loss, and it&rsquo;s less than two years old with less than 30,000 miles, you&rsquo;ll receive the money to buy a brand new one.<br /><br />Applies to a covered total loss. Your car cannot have had a previous owner. Does not apply to leased vehicles or motorcycles. Subject to applicable deductible. Not available in NC or WY.\n",
            "Label: RightTrack<sup>&reg;</sup> Discount\n",
            "default: <p>If you're a safe driver, Liberty Mutual's RightTrack program<sup>1</sup> can potentially help you earn significant savings on your auto insurance.</p> <p><strong>Here's how:</strong></p> <ul> <li>Enroll<sup>2</sup> in RightTrack when you purchase your Liberty Mutual Auto Policy</li> <li>Get a 5% initial discount off your vehicle's premium<sup>3</sup> when you enroll and agree to complete the program. There is no charge to participate.<sup>4</sup></li> <li>Once you purchase your policy, you will receive an email to accept the Terms &amp; Conditions</li> <li>Plug in your easy-to-install RightTrack device for just 90 days</li> <li>Earn a final discount of up to 30% for demonstrating safe driving habits through the RightTrack device</li> </ul> <p>If you choose to participate in RightTrack, Liberty Mutual will base your discount on four key characteristics of your driving - hard braking, rapid acceleration, time of day, and miles driven. Your premium can never increase based on your participation in RightTrack.</p> <p>Once you are enrolled, simply log in to your account to see how you're doing. You can keep track of your driving and view your potential discount.</p> <ol class=\"smlprint footnotes\"> <li id=\"footnote1\">Discounts and savings available where state laws and regulations allow, and may vary by state. Not available in all states. Please check with your sales representative for availability.</li> <li id=\"footnote2\">Eligibility for the RightTrack program is contingent upon providing Liberty Mutual with a valid email address. Subject to terms, conditions and exclusions. Total savings may vary depending on the coverages purchased. For more information regarding your eligibility for these savings opportunities, please contact your Liberty Mutual agent or call 1-800-837-5254.</li> <li id=\"footnote3\">RightTrack discount only applies to the base coverages of the vehicle.</li> <li id=\"footnote4\">You may opt out of the RightTrack program at any time during the 90-day observation period. The enrollment discount will be rescinded upon non-completion of the program.</li> </ol>\n",
            "Label: RightTrack<sup>&reg;</sup> Discount\n",
            "Label: RightTrack<sup>&reg;</sup> Discount\n",
            "default: <div class=\"pg-mssg pg-mssg-positive\"> <p><strong>Safe drivers save money.</strong></p> </div> <div itemprop=\"video\" itemscope=\"itemscope\" itemtype=\"http://schema.org/VideoObject\"><video poster=\"assets/img/righttrack-works-shim.jpg\" preload=\"none\" controls=\"controls\"><source src=\"assets/video/righttracktag.mp4?v=2016092510241750\" type=\"video/mp4\" /></video></div> <p><strong>How it works:</strong></p> <ul> <li>Get an immediate 10% discount just for signing up.</li> <li>Download the RightTrack app to ship your device.</li> <li>Put the tag on your windshield.</li> <li>Drive for 90 days. Track your discount progress online.</li> <li>Get a final discount between 5% and 30% based on your driving habits. We look at things like hard braking, rapid acceleration, miles driven, and time of day.</li> </ul> <div class=\"smlprint\">Availability and discounts vary by state. RightTrack won't increase your base insurance rate. Eligibility for RightTrack is contingent on providing us a valid email address. You can opt out of the program at any time during the 90-day review period. The discount will be removed if you don't complete the program. Your final discount may be lower than the enrollment discount, but you'll still get a discount just for signing up. For more information about this program, please call us at 1-800-837-5254.</div>\n",
            "\n",
            "\n",
            "🚌🚌🚌🚌🚌🚌🚌🚌🚌🚌🚌🚌🚌\n",
            "\n",
            "Label: Bodily Injury Liability\n",
            "SecondaryLabel: Bodily Injury\n",
            "default: <p>If you cause an accident and others are hurt, Bodily Injury Liability coverage pays for the                 expenses. It pays for medical costs (like ambulance rides, x-rays, or stitches), legal fees (if someone                 injured in the accident sues you), lost income, pain and suffering, and funeral costs.</p>                 <p>It doesn't cover you or your personal belongings.</p>                 <p><strong>Why are there two different dollar amounts?</strong><br /> The two amounts show                 how much we'll pay per person and per accident. For example, if your limits are $50,000/$100,000:</p>                 <ul>                 <li>$50,000 is the maximum amount we'll pay for expenses per person.</li>                 <li>$100,000 is the maximum amount we'll pay for expenses per accident if more than one person is                 injured.</li>                 </ul>             \n",
            "\n",
            "Label: Property Damage Liability\n",
            "default: <p>If your vehicle damages someone else's vehicle or other property (like a fence or mailbox), Property Damage Liability coverage kicks in to pay the repair or replacement costs.</p> <p><strong>How does this coverage work?</strong><br /> Your Property Damage limit is the maximum amount we'll pay to repair damages to someone else's property. For example, if your limit is $50,000 and you cause $60,000 in damage to someone else's vehicle, we'll pay $50,000 and you'll pay $10,000.</p>\n",
            "\n",
            "Label: Medical Payments\n",
            "default: <p>After an accident, the last thing that should be on your mind is how you'll pay for your injuries. This coverage pays for initial medical expenses (like ambulance rides and hospital stays) for you and your passengers, regardless of who's at fault. In certain situations, you and family members who live with you are also covered if you're hurt as pedestrians, or when riding in another person's vehicle.</p> <p>This coverage is not meant to be a substitute for health insurance. Coverage limits are typically low and meant only to help you cover immediate medical expenses.</p> <p><strong>How does this coverage work?</strong><br /> Let's say you're in an accident and are taken to the emergency room, and your medical expenses cost $2,500. If your Medical Payments coverage limit is $1,000, we'll pay $1,000, and you or your health insurance provider will pay $1,500.</p>\n",
            "\n",
            "Label: Personal Injury Protection\n",
            "default: <p>With Personal Injury Protection, we'll pay up to your limit for medical expenses, funeral                 expenses, and up to 80% of lost income if you or a passenger are hurt in an accident, regardless of                 who's at fault. You and the other drivers on the policy are also covered if you're hurt as pedestrians.</p>                 <p><strong>What's the benefit of this coverage?</strong><br /> The nice thing about this                 coverage is that no matter who's at fault, we'll take care of paying for expenses up to your limit. That                 means if the other driver is at fault, you won't have to wait for their insurance company to pay.</p>             \n",
            "\n",
            "Label: Uninsured / Underinsured Motorist\n",
            "default: <p>Getting in an accident is no fun, and it can be worse if the other driver doesn't have insurance or enough insurance. With this coverage, we'll pay for your medical expenses, lost income, and damages to your vehicle if you're in an accident caused by an uninsured or underinsured driver.</p> <p>For example, if your vehicle is rear-ended by an uninsured driver and you get hurt, this coverage pays for things like ambulance rides and hospital stays.</p> <p>Your coverage limit must be less than or equal to your Bodily Injury Liability limit.</p> <p><strong>Why are there three different dollar amounts?</strong><br /> The three amounts show how much we'll pay person, per accident, and per vehicle. For example, if your limits are $50,000/$100,000/$25,000:</p> <ul> <li>$50,000 is the maximum amount we'll pay for medical expenses per person.</li> </ul> <ul> <li>$100,000 is the maximum amount we'll pay for expenses per accident (including medical expenses, damages to your vehicle, and other expenses).</li> </ul> <ul> <li>$25,000 is the maximum amount we'll pay for damages per vehicle.</li> </ul>\n",
            "\n",
            "Label: Liberty Mutual Deductible Fund<sup>&reg;</sup>\n",
            "default: Paying for your deductible after an accident can be an unexpected burden. That’s why we offer the Liberty Mutual Deductible Fund. Think of it as a savings account for your deductible.<br/><br/>With this benefit, you contribute $30 and we’ll contribute $70 each year towards your Deductible Fund. There’s no limit to how much you can save, and the money in your fund never expires as long as you’re a Liberty Mutual customer with the Deductible Fund on your policy. <br/><br/>Collision coverage is required to purchase this benefit.<br/><br/>Liberty Mutual Deductible Fund is not available in the following states: AK, NC, CA, and SD.\n",
            "\n",
            "Label: Additional Policy Features\n",
            "default: <strong>Accident Forgiveness</strong><br />With Accident Forgiveness, we won't raise your price due to your first accident if your driving record has been accident-free and violation-free for five years. This applies whether you've been with Liberty Mutual or another insurer. <br /><br /> <strong>New Car Replacement</strong><br />With New Car Replacement, we'll pay you for a brand-new vehicle if yours is totaled in an accident. To be eligible, your vehicle must be less than one year old, have fewer than 15,000 miles, and have had no previous owner. This coverage isn't available for leased vehicles.\n",
            "\n",
            "Label: Auto Death Indemnity\n",
            "default: <p>Auto Death Indemnity coverage is similar to life insurance. If you die due to an auto accident, we'll pay either $5,000 or $10,000 to the person(s) you choose as your beneficiary.</p> <p>This coverage only applies to you (the primary driver on the policy). If you want to add coverage for additional drivers on your policy, please call us.</p>\n",
            "\n",
            "Label: Total Disability\n",
            "default: <p>With Total Disability coverage, we'll pay you $60 per day if you're disabled due to an auto accident. If you don't have disability insurance through your employer, you may want to consider adding this coverage.</p> <p>This coverage only applies to you (the primary driver on the policy). If you want to add coverage for additional drivers on your policy, please call us.</p> <p>Auto Death Indemnity coverage is required to purchase this coverage.</p>\n",
            "\n",
            "Label: RightTrack<sup>&reg;</sup> Discount\n",
            "default: <p>With RightTrack, you save money for being a good driver. It&rsquo;s simple:</p> <ol> <li>Sign up and save 10% instantly</li> <li>Download the RightTrack app. All participating drivers will also need to download the app and register.</li> <li>Drive as normal for 90 days. Follow your discount progress in the app.</li> <li>Get a final discount between 5% and 30% based on these driving behaviors: <ul> <li>Miles driven</li> <li>Nighttime driving</li> <li>Braking</li> <li>Acceleration</li> </ul> </li> </ol> <p>The final discount is an average of each individual drivers&rsquo; discounts. The more drivers that participate, the better the discount will be.</div>  <div class=\"smlprint\">Availability and discounts vary by state. RightTrack won&rsquo;t increase your base insurance rate. Your final RightTrack discount may be lower than your enrollment discount, but you&rsquo;ll still get a discount just for participating. Eligibility for RightTrack is contingent on providing us a valid email address. You may opt out of the RightTrack program at any time during the 90-day review period. The enrollment discount will be removed if you don&rsquo;t complete the program. For more information about this program, please call us at 1-800-837-5254.</div>\n",
            "\n",
            "Label: RightTrack<sup>&reg;</sup> Discount\n",
            "\n"
          ]
        }
      ]
    }
  ]
}