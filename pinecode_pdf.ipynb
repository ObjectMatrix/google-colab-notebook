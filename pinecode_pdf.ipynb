{
  "nbformat": 4,
  "nbformat_minor": 0,
  "metadata": {
    "colab": {
      "provenance": [],
      "mount_file_id": "13aMOJ3uzEb_umn1RbXlhFCICxi5o2Z_P",
      "authorship_tag": "ABX9TyN0bPIti+9LmMi9n1Vx4l8E",
      "include_colab_link": true
    },
    "kernelspec": {
      "name": "python3",
      "display_name": "Python 3"
    },
    "language_info": {
      "name": "python"
    }
  },
  "cells": [
    {
      "cell_type": "markdown",
      "metadata": {
        "id": "view-in-github",
        "colab_type": "text"
      },
      "source": [
        "<a href=\"https://colab.research.google.com/github/ObjectMatrix/google-colab-notebook/blob/main/pinecode_pdf.ipynb\" target=\"_parent\"><img src=\"https://colab.research.google.com/assets/colab-badge.svg\" alt=\"Open In Colab\"/></a>"
      ]
    },
    {
      "cell_type": "code",
      "source": [
        "!pip install langchain --upgrade\n",
        "!pip install pinecone-client\n",
        "!pip openai \n",
        "!pip install pypdf"
      ],
      "metadata": {
        "id": "2hvqXhi1JI4f"
      },
      "execution_count": null,
      "outputs": []
    },
    {
      "cell_type": "code",
      "source": [
        "!\n",
        "\n",
        "# PDF Loaders. If unstructured gives you a hard time, try PyPDFLoader\n",
        "mybook = \"https://github.com/ObjectMatrix/google-colab-notebook/blob/main/mml-book.pdf\"\n",
        "\n",
        "from langchain.document_loaders import UnstructuredPDFLoader, OnlinePDFLoader, PyPDFLoader\n",
        "\n",
        "from langchain.text_splitter import RecursiveCharacterTextSplitter\n",
        "import os\n",
        "import json\n"
      ],
      "metadata": {
        "id": "pVsIINu7QjHi"
      },
      "execution_count": null,
      "outputs": []
    },
    {
      "cell_type": "code",
      "execution_count": null,
      "metadata": {
        "id": "OjrvTlZXFYe8"
      },
      "outputs": [],
      "source": [
        "loader = PyPDFLoader(\"./mml-book.pdf\")\n",
        "\n",
        "## Other options for loaders \n",
        "# loader = UnstructuredPDFLoader(\"../data/field-guide-to-data-science.pdf\")\n",
        "# loader = OnlinePDFLoader(\"https://wolfpaulus.com/wp-content/uploads/2017/05/field-guide-to-data-science.pdf\")\n"
      ]
    },
    {
      "cell_type": "code",
      "source": [
        "data = loader.load()"
      ],
      "metadata": {
        "id": "9v5hLKU0RTyP"
      },
      "execution_count": null,
      "outputs": []
    },
    {
      "cell_type": "code",
      "source": [
        "# Note: If you're using PyPDFLoader then it will split by page for you already\n",
        "print (f'You have {len(data)} document(s) in your data')\n",
        "print (f'There are {len(data[30].page_content)} characters in your document')"
      ],
      "metadata": {
        "id": "lxwztvzgQ6oy"
      },
      "execution_count": null,
      "outputs": []
    },
    {
      "cell_type": "markdown",
      "source": [
        "Chunk your data up into smaller units"
      ],
      "metadata": {
        "id": "EAv0eqisTOio"
      }
    },
    {
      "cell_type": "code",
      "source": [
        "# Note: If we're using PyPDFLoader then we'll be splitting for the 2nd time.\n",
        "# This is optional, test out on your own data.\n",
        "\n",
        "text_splitter = RecursiveCharacterTextSplitter(chunk_size=2000, chunk_overlap=0)\n",
        "texts = text_splitter.split_documents(data)"
      ],
      "metadata": {
        "id": "gYjaeqKSTU3q"
      },
      "execution_count": null,
      "outputs": []
    },
    {
      "cell_type": "code",
      "source": [
        "print (f'Now you have {len(texts)} documents')"
      ],
      "metadata": {
        "id": "wtK2AtH1UFDd"
      },
      "execution_count": null,
      "outputs": []
    },
    {
      "cell_type": "markdown",
      "source": [
        "Now, let's create embeddings for our documents to do semantic searach "
      ],
      "metadata": {
        "id": "_2LJwZfHUYx_"
      }
    },
    {
      "cell_type": "code",
      "source": [
        "from langchain.vectorstores import Chroma, Pinecone\n",
        "from langchain.embeddings.openai import OpenAIEmbeddings\n",
        "import pinecone\n",
        "\n"
      ],
      "metadata": {
        "id": "puHxpvAxUuU6"
      },
      "execution_count": null,
      "outputs": []
    },
    {
      "cell_type": "code",
      "source": [
        "with open('/content/drive/MyDrive/secrets.json', 'r') as f:\n",
        "    secrets = json.load(f)\n",
        "\n",
        "KEY = secrets['SECRET_KEY']\n",
        "pinecone_env = secrets['pinecone_env']\n",
        "pinecone = secrets[\"pinecone\"]\n",
        "\n",
        "# Check to see if there is an environment variable with you API keys, if not, use what you put below\n",
        "OPENAI_API_KEY = os.environ.get('OPENAI_API_KEY', 'KEY')\n",
        "\n",
        "PINECONE_API_KEY = os.environ.get('PINECONE_API_KEY', pinecone)\n",
        "PINECONE_API_ENV = os.environ.get('PINECONE_API_ENV', pinecone_env) # You may need to switch with your env"
      ],
      "metadata": {
        "id": "wRa6Nje1I_R4"
      },
      "execution_count": null,
      "outputs": []
    }
  ]
}