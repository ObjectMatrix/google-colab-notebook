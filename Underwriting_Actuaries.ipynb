{
  "nbformat": 4,
  "nbformat_minor": 0,
  "metadata": {
    "colab": {
      "provenance": [],
      "toc_visible": true,
      "mount_file_id": "1HHVxKRngHWwBGKO8DbK6m5eZbtluY25n",
      "authorship_tag": "ABX9TyOMwntWKkVqDbxj71AERkYq",
      "include_colab_link": true
    },
    "kernelspec": {
      "name": "python3",
      "display_name": "Python 3"
    },
    "language_info": {
      "name": "python"
    }
  },
  "cells": [
    {
      "cell_type": "markdown",
      "metadata": {
        "id": "view-in-github",
        "colab_type": "text"
      },
      "source": [
        "<a href=\"https://colab.research.google.com/github/ObjectMatrix/google-colab-notebook/blob/main/Underwriting_Actuaries.ipynb\" target=\"_parent\"><img src=\"https://colab.research.google.com/assets/colab-badge.svg\" alt=\"Open In Colab\"/></a>"
      ]
    },
    {
      "cell_type": "code",
      "source": [
        "!pip install openai pandas numpy matplotlib seaborn sklearn"
      ],
      "metadata": {
        "id": "m1Zk2UCb2oFn"
      },
      "execution_count": null,
      "outputs": []
    },
    {
      "cell_type": "code",
      "execution_count": null,
      "metadata": {
        "id": "1LroedZ22Nf4"
      },
      "outputs": [],
      "source": [
        "import os\n",
        "import re\n",
        "import json\n",
        "\n",
        "import openai\n",
        "import pandas as pd\n",
        "import numpy as np\n",
        "import matplotlib.pyplot as plt\n",
        "import seaborn as sns\n",
        "from sklearn.preprocessing import StandardScaler\n",
        "from sklearn.model_selection import train_test_split\n",
        "from sklearn.linear_model import LinearRegression\n",
        "from sklearn.metrics import mean_squared_error, r2_score\n",
        "\n",
        "with open('/content/drive/MyDrive/secrets.json', 'r') as f:\n",
        "    secrets = json.load(f)\n",
        "\n",
        "user_data = pd.read_csv('/content/drive/MyDrive/user_data.txt')\n",
        "\n",
        "# Encode the gender column\n",
        "user_data['gender'] = user_data['gender'].apply(lambda x: 1 if x == 'male' else 0)\n",
        "\n",
        "print(user_data.head())\n",
        "# Visualize the distribution of variables, correlations, and potential trends\n",
        "sns.pairplot(user_data)\n",
        "plt.show()\n",
        "\n",
        "# Based on insights from the LLM and EDA, select important features\n",
        "X = user_data[['age', 'gender', 'annual_mileage', 'vehicle_age', 'vehicle_value', 'accident_history']]\n",
        "y = user_data['insurance_premium']\n",
        "\n",
        "KEY = secrets['SECRET_KEY']\n",
        "MODEL = secrets['MODEL']\n",
        "openai.api_key = KEY"
      ]
    },
    {
      "cell_type": "markdown",
      "source": [
        "**Train the Model**"
      ],
      "metadata": {
        "id": "lHIYVdfqXuQl"
      }
    },
    {
      "cell_type": "code",
      "source": [
        "# Split the dataset into training and testing sets\n",
        "X_train, X_test, y_train, y_test = train_test_split(X, y, test_size=0.2, random_state=42)\n",
        "\n",
        "# Standardize the data\n",
        "scaler = StandardScaler()\n",
        "X_train = scaler.fit_transform(X_train)\n",
        "X_test = scaler.transform(X_test)\n",
        "\n",
        "# Train the linear regression model\n",
        "model = LinearRegression()\n",
        "model.fit(X_train, y_train)\n"
      ],
      "metadata": {
        "id": "o1bCXpobWkpo"
      },
      "execution_count": null,
      "outputs": []
    },
    {
      "cell_type": "markdown",
      "source": [
        "**Evaluate the Model**"
      ],
      "metadata": {
        "id": "fo3bqFrkYT4F"
      }
    },
    {
      "cell_type": "code",
      "source": [
        "# Predict on the test set\n",
        "y_pred = model.predict(X_test)\n",
        "\n",
        "# Calculate the metrics\n",
        "mse = mean_squared_error(y_test, y_pred)\n",
        "r2 = r2_score(y_test, y_pred)\n",
        "\n",
        "# Print the results\n",
        "print(\"Mean Squared Error:\", mse)\n",
        "print(\"R-squared:\", r2)\n"
      ],
      "metadata": {
        "id": "eC19mwZlYgXy"
      },
      "execution_count": null,
      "outputs": []
    },
    {
      "cell_type": "code",
      "source": [
        "# Define a function to get LLM recommendations for underwriting\n",
        "def get_recommendation(prompt):\n",
        "    response = openai.Completion.create(\n",
        "        engine=\"text-davinci-002\",\n",
        "        prompt=prompt,\n",
        "        max_tokens=100,\n",
        "        n=1,\n",
        "        stop=None,\n",
        "        temperature=0.5,\n",
        "    )\n",
        "    return response.choices[0].text.strip()\n",
        "\n",
        "\n",
        "# Example: Get a recommendation for a specific customer profile\n",
        "customer_profile = {\"age\": 45, \"gender\": \"male\", \"annual_mileage\": 12000}\n",
        "\n",
        "recommendation = get_recommendation(f\"Based on the customer profile {customer_profile}, should we offer them a lower, standard, or higher premium?\")\n",
        "\n",
        "print(\"Recommendation:\", recommendation)\n"
      ],
      "metadata": {
        "id": "oVLHhZiEYxHO"
      },
      "execution_count": null,
      "outputs": []
    },
    {
      "cell_type": "code",
      "source": [
        "prompt = \"\"\"Assess the risk level of insuring a potential customer based on the following information:\n",
        "- Age: 28\n",
        "- Gender: Male\n",
        "- Location: Los Angeles, California\n",
        "- Driving history: One speeding ticket in the past three years, no accidents\n",
        "- Vehicle: 2018 Honda Civic\n",
        "\n",
        "Please provide a risk assessment and the factors contributing to this assessment.\"\"\"\n",
        "\n",
        "\n",
        "response = get_recommendation(prompt)\n",
        "print(response)"
      ],
      "metadata": {
        "colab": {
          "base_uri": "https://localhost:8080/"
        },
        "id": "nV4lquRQivbU",
        "outputId": "d3676974-95cb-421d-afbc-046ccf369754"
      },
      "execution_count": null,
      "outputs": [
        {
          "output_type": "stream",
          "name": "stdout",
          "text": [
            "The risk level of insuring this potential customer is considered to be low. The customer's age, gender, and location are all factors that contribute to this assessment. The customer's driving history is also taken into consideration, and the fact that they have only had one speeding ticket in the past three years is viewed as a positive. The vehicle that the customer is driving is also a factor, and the 2018 Honda Civic is a newer model that is less likely to be involved in an accident.\n"
          ]
        }
      ]
    }
  ]
}